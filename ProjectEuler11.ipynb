{
 "cells": [
  {
   "cell_type": "code",
   "execution_count": 1,
   "metadata": {},
   "outputs": [],
   "source": [
    "gridString = \"08 02 22 97 38 15 00 40 00 75 04 05 07 78 52 12 50 77 91 08 49 49 99 40 17 81 18 57 60 87 17 40 98 43 69 48 04 56 62 00 81 49 31 73 55 79 14 29 93 71 40 67 53 88 30 03 49 13 36 65 52 70 95 23 04 60 11 42 69 24 68 56 01 32 56 71 37 02 36 91 22 31 16 71 51 67 63 89 41 92 36 54 22 40 40 28 66 33 13 80 24 47 32 60 99 03 45 02 44 75 33 53 78 36 84 20 35 17 12 50 32 98 81 28 64 23 67 10 26 38 40 67 59 54 70 66 18 38 64 70 67 26 20 68 02 62 12 20 95 63 94 39 63 08 40 91 66 49 94 21 24 55 58 05 66 73 99 26 97 17 78 78 96 83 14 88 34 89 63 72 21 36 23 09 75 00 76 44 20 45 35 14 00 61 33 97 34 31 33 95 78 17 53 28 22 75 31 67 15 94 03 80 04 62 16 14 09 53 56 92 16 39 05 42 96 35 31 47 55 58 88 24 00 17 54 24 36 29 85 57 86 56 00 48 35 71 89 07 05 44 44 37 44 60 21 58 51 54 17 58 19 80 81 68 05 94 47 69 28 73 92 13 86 52 17 77 04 89 55 40 04 52 08 83 97 35 99 16 07 97 57 32 16 26 26 79 33 27 98 66 88 36 68 87 57 62 20 72 03 46 33 67 46 55 12 32 63 93 53 69 04 42 16 73 38 25 39 11 24 94 72 18 08 46 29 32 40 62 76 36 20 69 36 41 72 30 23 88 34 62 99 69 82 67 59 85 74 04 36 16 20 73 35 29 78 31 90 01 74 31 49 71 48 86 81 16 23 57 05 54 01 70 54 71 83 51 54 69 16 92 33 48 61 43 52 01 89 19 67 48\""
   ]
  },
  {
   "cell_type": "code",
   "execution_count": 2,
   "metadata": {
    "scrolled": false
   },
   "outputs": [],
   "source": [
    "def parseStringToSquareGrid(inputString, sideLength):\n",
    "    \"\"\"parses a space(' ')-separated series of integers into a N X N array where N is input as 'sideLength'\n",
    "    \n",
    "    Parameters\n",
    "    ----------\n",
    "        inputString : str\n",
    "            A space(' ')-separated string of strings to be split into N X N array\n",
    "        sideLength : int\n",
    "            an integer representing the length of one side of the square array\n",
    "    \n",
    "    Returns\n",
    "    -------\n",
    "        list of lists of ints\n",
    "            A single list, of length N, comprised of lists of the same length, N, that store integers passed in via 'inputString'.\n",
    "    \n",
    "    Examples\n",
    "    --------\n",
    "    >>> parseStringToSquareGrid(\"1 2 3 4\", 2)\n",
    "    [[1, 2], [3, 4]]\n",
    "    >>> parseStringToSquareGrid(\"1 2 3 4 5 6 7 8 9\", 3)\n",
    "    [[1, 2, 3], [4, 5, 6], [7, 8, 9]]\n",
    "    \"\"\"\n",
    "    from itertools import islice\n",
    "    \n",
    "    # even though a list is iterable, you must cast it as an iterator to get the next method.\n",
    "    # islice calls next a number of times which is basically reading a row.\n",
    "    # Then the iterator is poised to give you the next row, so we loop through a count of rows.\n",
    "    iterable_grid = iter([int(item) for item in inputString.split(' ')])\n",
    "    return [list(islice(iterable_grid, sideLength)) for i in range(sideLength)]"
   ]
  },
  {
   "cell_type": "code",
   "execution_count": 3,
   "metadata": {},
   "outputs": [],
   "source": [
    "grid = parseStringToSquareGrid(gridString, 20)"
   ]
  },
  {
   "cell_type": "code",
   "execution_count": 4,
   "metadata": {},
   "outputs": [],
   "source": [
    "def computeProduct(numberList):\n",
    "    \"\"\"Computes the product of a list of numbers\n",
    "    \n",
    "    Parameters\n",
    "    ----------\n",
    "        numberList : list of ints\n",
    "            The list of numbers for which to find the product\n",
    "            \n",
    "    Returns\n",
    "    -------\n",
    "        int\n",
    "            The product of the numbers in numberList multiplied together\n",
    "            \n",
    "    Examples\n",
    "    --------\n",
    "    >>> computeProduct([1,2,3,4])\n",
    "    24\n",
    "    >>> computeProduct([10,10,10])\n",
    "    1000\n",
    "    >>> computeProduct([1,1,1,1,1])\n",
    "    1\n",
    "    \"\"\"\n",
    "    from functools import reduce\n",
    "    return reduce(lambda x, y: x * y,numberList, 1)"
   ]
  },
  {
   "cell_type": "code",
   "execution_count": 5,
   "metadata": {},
   "outputs": [
    {
     "data": {
      "text/plain": [
       "1000"
      ]
     },
     "execution_count": 5,
     "metadata": {},
     "output_type": "execute_result"
    }
   ],
   "source": [
    "computeProduct([10,10,10])"
   ]
  },
  {
   "cell_type": "code",
   "execution_count": 6,
   "metadata": {},
   "outputs": [],
   "source": [
    "def rightAdjacentAtIndex(grid, row, column, length):\n",
    "    \"\"\"returns a list of size length of numbers right-adjacent to grid[row][column]\n",
    "    \n",
    "    Parameters\n",
    "    ----------\n",
    "        grid : list of lists of ints\n",
    "            A two dimensional array of numbers\n",
    "        row : int\n",
    "            the row index for the starting integer\n",
    "        column : int\n",
    "            the column index for the starting integer\n",
    "        length : int\n",
    "            the size of the array to return of N right-adjacent numbers\n",
    "            \n",
    "    Returns\n",
    "    -------\n",
    "        list of ints\n",
    "            The list of right adjacent numbers starting with item indexed at row, column and ending with item 'length'-1 to the right of start\n",
    "            \n",
    "    Examples\n",
    "    >>> rightAdjacentAtIndex([[1,2,3,4]], 0, 0, 3)\n",
    "    [1, 2, 3]\n",
    "    >>> rightAdjacentAtIndex([[1,2,3],[4,5,6],[7,8,9]], 1, 1, 2)\n",
    "    [5, 6]\n",
    "    \"\"\"\n",
    "    \n",
    "    numberList = [grid[row][column + i] for i in range(length)]\n",
    "    return numberList"
   ]
  },
  {
   "cell_type": "code",
   "execution_count": 7,
   "metadata": {},
   "outputs": [],
   "source": [
    "def downAdjacentAtIndex(grid, row, column, length):\n",
    "    \"\"\"returns a list of size length of numbers right-adjacent to grid[row][column]\n",
    "    \n",
    "    Parameters\n",
    "    ----------\n",
    "        grid : list of lists of ints\n",
    "            A two dimensional array of numbers\n",
    "        row : int\n",
    "            the row index for the starting integer\n",
    "        column : int\n",
    "            the column index for the starting integer\n",
    "        length : int\n",
    "            the size of the array to return of N right-adjacent numbers\n",
    "            \n",
    "    Returns\n",
    "    -------\n",
    "        list of ints\n",
    "            The list of right adjacent numbers starting with item indexed at row, column and ending with item 'length'-1 to the right of start\n",
    "            \n",
    "    Examples\n",
    "    >>> downAdjacentAtIndex([[1],[2],[3],[4]], 0, 0, 3)\n",
    "    [1, 2, 3]\n",
    "    >>> downAdjacentAtIndex([[1,2,3],[4,5,6],[7,8,9]], 1, 1, 2)\n",
    "    [5, 8]\n",
    "    \"\"\"\n",
    "    \n",
    "    numberList = [grid[row + i][column] for i in range(length)]\n",
    "    return numberList"
   ]
  },
  {
   "cell_type": "code",
   "execution_count": 8,
   "metadata": {},
   "outputs": [],
   "source": [
    "def diagonalBottomRightAdjacentAtIndex(grid, row, column, length):\n",
    "    \"\"\"returns a list of size length of numbers right-adjacent to grid[row][column]\n",
    "    \n",
    "    Parameters\n",
    "    ----------\n",
    "        grid : list of lists of ints\n",
    "            A two dimensional array of numbers\n",
    "        row : int\n",
    "            the row index for the starting integer\n",
    "        column : int\n",
    "            the column index for the starting integer\n",
    "        length : int\n",
    "            the size of the array to return of N right-adjacent numbers\n",
    "            \n",
    "    Returns\n",
    "    -------\n",
    "        list of ints\n",
    "            The list of right adjacent numbers starting with item indexed at row, column and ending with item 'length'-1 to the right of start\n",
    "            \n",
    "    Examples\n",
    "    >>> diagonalBottomRightAdjacentAtIndex([[1,2,3],[4,5,6],[7,8,9]], 0, 0, 3)\n",
    "    [1, 5, 9]\n",
    "    >>> diagonalBottomRightAdjacentAtIndex([[1,2,3],[4,5,6],[7,8,9]], 1, 0, 2)\n",
    "    [4, 8]\n",
    "    \"\"\"\n",
    "    \n",
    "    numberList = [grid[row + i][column + i] for i in range(length)]\n",
    "    return numberList"
   ]
  },
  {
   "cell_type": "code",
   "execution_count": 9,
   "metadata": {},
   "outputs": [],
   "source": [
    "def diagonalTopRightAdjacentAtIndex(grid, row, column, length):\n",
    "    \"\"\"returns a list of size length of numbers right-adjacent to grid[row][column]\n",
    "    \n",
    "    Parameters\n",
    "    ----------\n",
    "        grid : list of lists of ints\n",
    "            A two dimensional array of numbers\n",
    "        row : int\n",
    "            the row index for the starting integer\n",
    "        column : int\n",
    "            the column index for the starting integer\n",
    "        length : int\n",
    "            the size of the array to return of N right-adjacent numbers\n",
    "            \n",
    "    Returns\n",
    "    -------\n",
    "        list of ints\n",
    "            The list of right adjacent numbers starting with item indexed at row, column and ending with item 'length'-1 to the right of start\n",
    "            \n",
    "    Examples\n",
    "    >>> diagonalTopRightAdjacentAtIndex([[1,2,3],[4,5,6],[7,8,9]], 2, 0, 3)\n",
    "    [7, 5, 3]\n",
    "    >>> diagonalTopRightAdjacentAtIndex([[1,2,3],[4,5,6],[7,8,9]], 1, 0, 2)\n",
    "    [4, 2]\n",
    "    \"\"\"\n",
    "    \n",
    "    numberList = [grid[row - i][column + i] for i in range(length)]\n",
    "    return numberList"
   ]
  },
  {
   "cell_type": "code",
   "execution_count": 10,
   "metadata": {},
   "outputs": [],
   "source": [
    "def findMaxProductInGrid(grid, adjacentLength):\n",
    "    \"\"\"Find the max product of N adjacent numbers in a grid, where N is 'adjacentLength'\n",
    "    \n",
    "    Parameters\n",
    "    ----------\n",
    "        grid : list of lists of ints\n",
    "            A square grid of numbers\n",
    "        adjacentLength : int\n",
    "            The number of adjacent numbers to determine the product of\n",
    "    \n",
    "    Returns\n",
    "    -------\n",
    "        int\n",
    "            The maximum product of adjacent numbers found in the grid\n",
    "            \n",
    "    Examples\n",
    "    --------\n",
    "    >>> findMaxProductInGrid([[1,2,3],[4,5,6],[7,8,9]], 3)\n",
    "    504\n",
    "    >>> findMaxProductInGrid([[7,2,3],[4,8,6],[1,5,9]], 3)\n",
    "    504\n",
    "    \"\"\"\n",
    "    maxProduct = 0\n",
    "    gridSize = len(grid)\n",
    "    upperLimit = gridSize - adjacentLength\n",
    "    for row in range(gridSize):\n",
    "        for column in range(gridSize):\n",
    "            if row <= upperLimit:\n",
    "                product = computeProduct(downAdjacentAtIndex(grid, row, column, adjacentLength))\n",
    "                if product > maxProduct:\n",
    "                    maxProduct = product\n",
    "            if column <= upperLimit:\n",
    "                product = computeProduct(rightAdjacentAtIndex(grid, row, column, adjacentLength))\n",
    "                if product > maxProduct:\n",
    "                    maxProduct = product\n",
    "            if row <= upperLimit and column <= upperLimit:\n",
    "                product = computeProduct(diagonalBottomRightAdjacentAtIndex(grid, row, column, adjacentLength))\n",
    "                if product > maxProduct:\n",
    "                    maxProduct = product\n",
    "            if row >= adjacentLength - 1 and column <= upperLimit:\n",
    "                product = computeProduct(diagonalTopRightAdjacentAtIndex(grid, row, column, adjacentLength))\n",
    "                if product > maxProduct:\n",
    "                    maxProduct = product\n",
    "    return maxProduct\n",
    "        "
   ]
  },
  {
   "cell_type": "code",
   "execution_count": 11,
   "metadata": {
    "scrolled": false
   },
   "outputs": [
    {
     "data": {
      "text/plain": [
       "TestResults(failed=0, attempted=15)"
      ]
     },
     "execution_count": 11,
     "metadata": {},
     "output_type": "execute_result"
    }
   ],
   "source": [
    "import doctest\n",
    "doctest.testmod()"
   ]
  },
  {
   "cell_type": "code",
   "execution_count": 12,
   "metadata": {},
   "outputs": [
    {
     "data": {
      "text/plain": [
       "70600674"
      ]
     },
     "execution_count": 12,
     "metadata": {},
     "output_type": "execute_result"
    }
   ],
   "source": [
    "findMaxProductInGrid(grid, 4)"
   ]
  }
 ],
 "metadata": {
  "kernelspec": {
   "display_name": "Python 3",
   "language": "python",
   "name": "python3"
  },
  "language_info": {
   "codemirror_mode": {
    "name": "ipython",
    "version": 3
   },
   "file_extension": ".py",
   "mimetype": "text/x-python",
   "name": "python",
   "nbconvert_exporter": "python",
   "pygments_lexer": "ipython3",
   "version": "3.8.3"
  }
 },
 "nbformat": 4,
 "nbformat_minor": 4
}
