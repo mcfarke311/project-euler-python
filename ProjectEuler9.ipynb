{
 "cells": [
  {
   "cell_type": "markdown",
   "metadata": {},
   "source": [
    "# Special Pythagorean triplet\n",
    "#### Problem 9\n",
    "\n",
    "A Pythagorean triplet is a set of three natural numbers, a < b < c, for which,\n",
    "a<sup>2</sup> + b<sup>2</sup> = c<sup>2</sup>\n",
    "\n",
    "For example, 32 + 42 = 9 + 16 = 25 = 52.\n",
    "\n",
    "There exists exactly one Pythagorean triplet for which a + b + c = 1000.\n",
    "Find the product abc.\n",
    "\n",
    "*for the purposes of this code, number1, number2, and number3 have been used to replace a, b, and c, respectively*\n"
   ]
  },
  {
   "cell_type": "code",
   "execution_count": 7,
   "metadata": {},
   "outputs": [
    {
     "name": "stdout",
     "output_type": "stream",
     "text": [
      "31875000\n",
      "46.941397190093994\n"
     ]
    }
   ],
   "source": [
    "from time import time\n",
    "start = time()\n",
    "found = False\n",
    "for number1 in range(1, 1000):\n",
    "    for number2 in range(1, 1000):\n",
    "        for number3 in range(1, 1000):\n",
    "            if number1 + number2 + number3 == 1000:\n",
    "                if number1 ** 2 + number2 ** 2 == number3 ** 2:\n",
    "                    print(number1 * number2 * number3)\n",
    "                    found = True\n",
    "                    break\n",
    "        if found:\n",
    "            break\n",
    "    if found:\n",
    "        break\n",
    "end = time()\n",
    "print(end - start)"
   ]
  },
  {
   "cell_type": "code",
   "execution_count": 8,
   "metadata": {},
   "outputs": [
    {
     "name": "stdout",
     "output_type": "stream",
     "text": [
      "31875000\n",
      "0.13298511505126953\n"
     ]
    }
   ],
   "source": [
    "from time import time\n",
    "start = time()\n",
    "found = False\n",
    "# number1 < number2 < number3\n",
    "# number1 + number2 + number3 = 1000\n",
    "# therefore\n",
    "# number1 <= 333\n",
    "for number1 in range(1,334):\n",
    "    # if number1 were negligible (i.e. ~1),\n",
    "    # number2 < number3\n",
    "    # number2 + number3 = 999 (~1000)\n",
    "    # therefore\n",
    "    # b <= 500\n",
    "    for number2 in range(1, 501):\n",
    "        number3 = 1000 - number1 - number2\n",
    "        if number1 ** 2 + number2 ** 2 == number3 ** 2:\n",
    "            print(number1 * number2 * number3)\n",
    "            found = True\n",
    "            break\n",
    "    if found:\n",
    "        break\n",
    "end = time()\n",
    "print(end - start)"
   ]
  }
 ],
 "metadata": {
  "kernelspec": {
   "display_name": "Python 3",
   "language": "python",
   "name": "python3"
  },
  "language_info": {
   "codemirror_mode": {
    "name": "ipython",
    "version": 3
   },
   "file_extension": ".py",
   "mimetype": "text/x-python",
   "name": "python",
   "nbconvert_exporter": "python",
   "pygments_lexer": "ipython3",
   "version": "3.8.3"
  }
 },
 "nbformat": 4,
 "nbformat_minor": 4
}
