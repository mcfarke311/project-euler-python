{
 "cells": [
  {
   "cell_type": "code",
   "execution_count": 6,
   "metadata": {},
   "outputs": [],
   "source": [
    "def isPalindrome(testString):\n",
    "    \"\"\"Determines if a given string is a palindrome (the same backwards and fowards)\n",
    "    \n",
    "    Parameters\n",
    "    ----------\n",
    "        testString : str\n",
    "            The string that you want to test to determine if it is a palindrome\n",
    "            \n",
    "    Returns\n",
    "    -------\n",
    "        bool\n",
    "            True if the string given by 'testString' is a palindrome; False otherwise\n",
    "            \n",
    "    Examples\n",
    "    --------\n",
    "    >>> isPalindrome(\"racecar\")\n",
    "    True\n",
    "    >>> isPalindrome(\"name\")\n",
    "    False\n",
    "    >>> isPalindrome(\"kayak\")\n",
    "    True\n",
    "    \"\"\"\n",
    "    \n",
    "    return (testString == testString[::-1])"
   ]
  },
  {
   "cell_type": "code",
   "execution_count": 9,
   "metadata": {},
   "outputs": [
    {
     "data": {
      "text/plain": [
       "False"
      ]
     },
     "execution_count": 9,
     "metadata": {},
     "output_type": "execute_result"
    }
   ],
   "source": [
    "isPalindrome(\"name\")"
   ]
  },
  {
   "cell_type": "code",
   "execution_count": 18,
   "metadata": {},
   "outputs": [
    {
     "name": "stdout",
     "output_type": "stream",
     "text": [
      "906609\n"
     ]
    }
   ],
   "source": [
    "found = False\n",
    "for factor_1 in range(999, 99, -1):\n",
    "    for factor_2 in range(999, 99, -1):\n",
    "        product = factor_1 * factor_2\n",
    "        if isPalindrome(str(product)):\n",
    "            print(product)\n",
    "            found = True\n",
    "            break\n",
    "    if found:\n",
    "        break"
   ]
  }
 ],
 "metadata": {
  "kernelspec": {
   "display_name": "Python 3",
   "language": "python",
   "name": "python3"
  },
  "language_info": {
   "codemirror_mode": {
    "name": "ipython",
    "version": 3
   },
   "file_extension": ".py",
   "mimetype": "text/x-python",
   "name": "python",
   "nbconvert_exporter": "python",
   "pygments_lexer": "ipython3",
   "version": "3.8.3"
  }
 },
 "nbformat": 4,
 "nbformat_minor": 4
}
