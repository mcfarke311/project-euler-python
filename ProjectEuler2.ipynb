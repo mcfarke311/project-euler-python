{
 "cells": [
  {
   "cell_type": "code",
   "execution_count": 45,
   "metadata": {},
   "outputs": [],
   "source": [
    "import doctest\n",
    "from itertools import filterfalse"
   ]
  },
  {
   "cell_type": "code",
   "execution_count": 43,
   "metadata": {},
   "outputs": [
    {
     "data": {
      "text/plain": [
       "['__doc__',\n",
       " '__loader__',\n",
       " '__name__',\n",
       " '__package__',\n",
       " '__spec__',\n",
       " '_grouper',\n",
       " '_tee',\n",
       " '_tee_dataobject',\n",
       " 'accumulate',\n",
       " 'chain',\n",
       " 'combinations',\n",
       " 'combinations_with_replacement',\n",
       " 'compress',\n",
       " 'count',\n",
       " 'cycle',\n",
       " 'dropwhile',\n",
       " 'filterfalse',\n",
       " 'groupby',\n",
       " 'islice',\n",
       " 'permutations',\n",
       " 'product',\n",
       " 'repeat',\n",
       " 'starmap',\n",
       " 'takewhile',\n",
       " 'tee',\n",
       " 'zip_longest']"
      ]
     },
     "execution_count": 43,
     "metadata": {},
     "output_type": "execute_result"
    }
   ],
   "source": [
    "dir(itertools)"
   ]
  },
  {
   "cell_type": "code",
   "execution_count": 22,
   "metadata": {},
   "outputs": [],
   "source": [
    "def fibonacciGen(upperLimit):\n",
    "    \"\"\"A function that will generate the Fibonacci sequence up to but not including the upper limit.\n",
    "    \n",
    "    Parameters\n",
    "    ----------\n",
    "        upperLimit : int\n",
    "            The number at which to stop generating the Fibonacci sequence\n",
    "    \n",
    "    Yields\n",
    "    ------\n",
    "        int\n",
    "            The next number in the Fibonacci sequence\n",
    "            \n",
    "    Examples\n",
    "    --------\n",
    "    >>> list(fibonacciGen(1))\n",
    "    [1]\n",
    "    >>> list(fibonacciGen(100))\n",
    "    [1, 2, 3, 5, 8, 13, 21, 34, 55, 89]\n",
    "    \"\"\"\n",
    "    \n",
    "    from collections import deque\n",
    "    \n",
    "    numbers = deque([0, 0])\n",
    "    while sum(numbers) < upperLimit:\n",
    "        if sum(numbers) == 0:\n",
    "            nextNumber = 1\n",
    "        elif sum(numbers) == 1:\n",
    "            nextNumber = 2\n",
    "        else:\n",
    "            nextNumber = sum(numbers)\n",
    "        yield nextNumber\n",
    "        numbers[0] = numbers[1]\n",
    "        numbers[1] = nextNumber"
   ]
  },
  {
   "cell_type": "code",
   "execution_count": 23,
   "metadata": {},
   "outputs": [
    {
     "data": {
      "text/plain": [
       "TestResults(failed=0, attempted=2)"
      ]
     },
     "execution_count": 23,
     "metadata": {},
     "output_type": "execute_result"
    }
   ],
   "source": [
    "doctest.testmod()"
   ]
  },
  {
   "cell_type": "code",
   "execution_count": 64,
   "metadata": {},
   "outputs": [
    {
     "data": {
      "text/plain": [
       "4613732"
      ]
     },
     "execution_count": 64,
     "metadata": {},
     "output_type": "execute_result"
    }
   ],
   "source": [
    "sum(filterfalse(lambda x: x % 2, fibonacciGen(4000000)))"
   ]
  },
  {
   "cell_type": "code",
   "execution_count": 56,
   "metadata": {},
   "outputs": [
    {
     "data": {
      "text/plain": [
       "4613732"
      ]
     },
     "execution_count": 56,
     "metadata": {},
     "output_type": "execute_result"
    }
   ],
   "source": [
    "sum(number for number in fibonacciGen(4000000) if number % 2 == 0)"
   ]
  }
 ],
 "metadata": {
  "kernelspec": {
   "display_name": "Python 3",
   "language": "python",
   "name": "python3"
  },
  "language_info": {
   "codemirror_mode": {
    "name": "ipython",
    "version": 3
   },
   "file_extension": ".py",
   "mimetype": "text/x-python",
   "name": "python",
   "nbconvert_exporter": "python",
   "pygments_lexer": "ipython3",
   "version": "3.8.3"
  }
 },
 "nbformat": 4,
 "nbformat_minor": 4
}
