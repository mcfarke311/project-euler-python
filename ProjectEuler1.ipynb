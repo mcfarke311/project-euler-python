{
 "cells": [
  {
   "cell_type": "code",
   "execution_count": 1,
   "metadata": {},
   "outputs": [],
   "source": [
    "import doctest"
   ]
  },
  {
   "cell_type": "code",
   "execution_count": 5,
   "metadata": {},
   "outputs": [],
   "source": [
    "def numbersLessThan(endNumber):\n",
    "    \"\"\"A generator function to yield numbers until endNumber is reached.\n",
    "    \n",
    "    Parameters\n",
    "    ----------\n",
    "        endNumber : int\n",
    "            The number at which to stop integer generation, from 0 to 'endnumber' - 1.\n",
    "        \n",
    "    Yields\n",
    "    ------\n",
    "        number : int\n",
    "            The next number in the range from 0 to 'n' - 1\n",
    "    \n",
    "    Examples\n",
    "    --------\n",
    "    >>> list(numbersLessThan(1))\n",
    "    [0]\n",
    "    >>> list(numbersLessThan(10))\n",
    "    [0, 1, 2, 3, 4, 5, 6, 7, 8, 9]\n",
    "    \"\"\"\n",
    "    \n",
    "    number = 0\n",
    "    while number < endNumber:\n",
    "        yield number\n",
    "        number += 1"
   ]
  },
  {
   "cell_type": "code",
   "execution_count": 16,
   "metadata": {},
   "outputs": [],
   "source": [
    "def isMultiple(number, baseFactor):\n",
    "    \"\"\"A function to determine if a number is a multiple of a potential base factor.\n",
    "    \n",
    "    Parameters\n",
    "    ----------\n",
    "        number : int\n",
    "            The integer to check which may be a multiple of 'baseFactor'.\n",
    "        baseFactor : int\n",
    "            The integer which may be a factor of 'number'\n",
    "        \n",
    "    Returns\n",
    "    -------\n",
    "        bool\n",
    "            True if 'number' is a multiple of 'baseFactor', False otherwise.\n",
    "            \n",
    "    Examples\n",
    "    --------\n",
    "    >>> isMultiple(4, 2)\n",
    "    True\n",
    "    >>> isMultiple(100, 10)\n",
    "    True\n",
    "    >>> isMultiple(5, 2)\n",
    "    False\n",
    "    \"\"\"\n",
    "    return ((number % baseFactor) == 0)"
   ]
  },
  {
   "cell_type": "code",
   "execution_count": 17,
   "metadata": {},
   "outputs": [],
   "source": [
    "def isMultipleOfThreeOrFive(number):\n",
    "    \"\"\"A function that indicates whether a number is a multiple of 3 or 5.\n",
    "    \n",
    "    Parameters\n",
    "    ----------\n",
    "        number : int\n",
    "            The integer to test if 3 or 5 is a factor.\n",
    "        \n",
    "    Returns\n",
    "    -------\n",
    "        bool\n",
    "            True if 'number' is a multiple of 3 or 5, False otherwise.\n",
    "    \n",
    "    Examples\n",
    "    --------\n",
    "    >>> isMultipleOfThreeOrFive(30)\n",
    "    True\n",
    "    >>> isMultipleOfThreeOrFive(10)\n",
    "    True\n",
    "    >>> isMultipleOfThreeOrFive(9)\n",
    "    True\n",
    "    >>> isMultipleOfThreeOrFive(11)\n",
    "    False\n",
    "    \"\"\"\n",
    "    return (isMultiple(number, 3) or isMultiple(number, 5))"
   ]
  },
  {
   "cell_type": "code",
   "execution_count": 24,
   "metadata": {},
   "outputs": [],
   "source": [
    "def multiplesOfThreeOrFiveLessThan(endNumber):\n",
    "    \"\"\"A generator function to yield numbers which are multiples of 3 or 5 until endNumber is reached.\n",
    "    \n",
    "    Parameters\n",
    "    ----------\n",
    "        endNumber : int\n",
    "            The number at which to stop integer generation, from 0 to 'endnumber' - 1.\n",
    "        \n",
    "    Yields\n",
    "    ------\n",
    "        number : int\n",
    "            The next number in the range from 0 to 'n' - 1 which is a multiple of 3 or 5\n",
    "    \n",
    "    Examples\n",
    "    --------\n",
    "    >>> list(multiplesOfThreeOrFiveLessThan(10))\n",
    "    [0, 3, 5, 6, 9]\n",
    "    >>> sum(multiplesOfThreeOrFiveLessThan(10))\n",
    "    23\n",
    "    \"\"\"\n",
    "    \n",
    "    number = 0\n",
    "    while number < endNumber:\n",
    "        if isMultipleOfThreeOrFive(number):\n",
    "            yield number\n",
    "        number += 1"
   ]
  },
  {
   "cell_type": "code",
   "execution_count": 29,
   "metadata": {},
   "outputs": [
    {
     "data": {
      "text/plain": [
       "TestResults(failed=0, attempted=11)"
      ]
     },
     "execution_count": 29,
     "metadata": {},
     "output_type": "execute_result"
    }
   ],
   "source": [
    "doctest.testmod()"
   ]
  }
 ],
 "metadata": {
  "kernelspec": {
   "display_name": "Python 3",
   "language": "python",
   "name": "python3"
  },
  "language_info": {
   "codemirror_mode": {
    "name": "ipython",
    "version": 3
   },
   "file_extension": ".py",
   "mimetype": "text/x-python",
   "name": "python",
   "nbconvert_exporter": "python",
   "pygments_lexer": "ipython3",
   "version": "3.8.3"
  }
 },
 "nbformat": 4,
 "nbformat_minor": 4
}
