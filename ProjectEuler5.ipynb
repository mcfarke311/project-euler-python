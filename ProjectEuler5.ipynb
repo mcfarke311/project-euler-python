{
 "cells": [
  {
   "cell_type": "markdown",
   "metadata": {},
   "source": [
    "# Smallest multiple\n",
    "#### Problem 5\n",
    "\n",
    "2520 is the smallest number that can be divided by each of the numbers from 1 to 10 without any remainder.\n",
    "\n",
    "What is the smallest positive number that is evenly divisible by all of the numbers from 1 to 20?\n"
   ]
  },
  {
   "cell_type": "code",
   "execution_count": 1,
   "metadata": {},
   "outputs": [
    {
     "data": {
      "text/plain": [
       "2520"
      ]
     },
     "execution_count": 1,
     "metadata": {},
     "output_type": "execute_result"
    }
   ],
   "source": [
    "2*3*2*5*7*2*3"
   ]
  },
  {
   "cell_type": "code",
   "execution_count": 83,
   "metadata": {},
   "outputs": [
    {
     "data": {
      "text/plain": [
       "TestResults(failed=0, attempted=10)"
      ]
     },
     "execution_count": 83,
     "metadata": {},
     "output_type": "execute_result"
    }
   ],
   "source": [
    "import doctest\n",
    "doctest.testmod()"
   ]
  },
  {
   "cell_type": "code",
   "execution_count": 46,
   "metadata": {},
   "outputs": [],
   "source": [
    "def getPrimeFactors(number):\n",
    "    \"\"\"Function to return the degreed prime factors of a given number\n",
    "    \n",
    "    Parameters\n",
    "    ----------\n",
    "        number : int\n",
    "            The number which is to be factored into degreed primes\n",
    "            \n",
    "    Returns\n",
    "    -------\n",
    "        list of tuples of ints\n",
    "            A list of tuples of ints indicating the prime factors and their degree\n",
    "            \n",
    "    Examples\n",
    "    --------\n",
    "    >>> getPrimeFactors(4)\n",
    "    [(2, 2)]\n",
    "    >>> getPrimeFactors(15)\n",
    "    [(3, 1), (5, 1)]\n",
    "    >>> getPrimeFactors(17)\n",
    "    [(17, 1)]\n",
    "    \"\"\"\n",
    "    \n",
    "    # we want to return something when we have the number 1\n",
    "    if number == 1:\n",
    "        return [(1, 1)]\n",
    "    \n",
    "    # The reason this works, is if you factor out as many of the smaller numbers as you can,\n",
    "    # when you get to factor a larger multiple of that number, it will already have been factored\n",
    "    # down to its primes and you won't have to factor the higher numbers because they will have been reduced\n",
    "    # to degreed primes.\n",
    "    \n",
    "    # example: factor 24 2**3, 3**1. You didn't have to factor eight even though 24 is divisible by 8.\n",
    "    \n",
    "    primeFactorList = []\n",
    "    potentialFactor = 2\n",
    "    while number > 1:\n",
    "        # divisible by the potential factor? we will try that factor again to get degree/order\n",
    "        if number % potentialFactor == 0:\n",
    "            primeFactorList. append(potentialFactor)\n",
    "            number /= potentialFactor\n",
    "        # up our potential factor. Worst case O(n) because you would iterate all the way up to a prime number\n",
    "        # if a prime number were passed in.\n",
    "        else:\n",
    "            potentialFactor += 1\n",
    "    # reduce our list of prime factors into a list of tuples of (prime, degree)\n",
    "    primeFactors = set(primeFactorList)\n",
    "    degreedPrimeFactors = []\n",
    "    for factor in primeFactors:\n",
    "        degreedPrimeFactors.append((factor, primeFactorList.count(factor)))\n",
    "    return degreedPrimeFactors"
   ]
  },
  {
   "cell_type": "code",
   "execution_count": 79,
   "metadata": {
    "scrolled": true
   },
   "outputs": [],
   "source": [
    "def getLeastCommonMultiple(numbers):\n",
    "    \"\"\"Find the least common multiple of a list of numbers\n",
    "    \n",
    "    Parameters\n",
    "    ----------\n",
    "        numbers : list of ints\n",
    "            A list of integers that you want to find the least common multiple of.\n",
    "    \n",
    "    Returns\n",
    "    -------\n",
    "        int\n",
    "            The least common multiple of the integers in the list 'numbers'\n",
    "    \n",
    "    Examples\n",
    "    --------\n",
    "    >>> getLeastCommonMultiple([1,2,3])\n",
    "    6\n",
    "    >>> getLeastCommonMultiple([3,7,11])\n",
    "    231\n",
    "    >>> getLeastCommonMultiple([4,6,8])\n",
    "    24\n",
    "    \"\"\"\n",
    "    \n",
    "    from functools import reduce # used to do find LCM when we have everything factored into primes\n",
    "    \n",
    "    current_factors = [] # list to store prime factors\n",
    "    current_degrees = [] # list to store degree exponent\n",
    "    \n",
    "    for number in numbers:\n",
    "        for factor, degree in getPrimeFactors(number):\n",
    "            if factor in current_factors:\n",
    "                # we already have this factor, we need to check degree\n",
    "                index = current_factors.index(factor)\n",
    "                if degree > current_degrees[index]:\n",
    "                    # bump up exponent if degree is larger than what we had before\n",
    "                    current_degrees[index] = degree\n",
    "            else:\n",
    "                current_factors.append(factor)\n",
    "                current_degrees.append(degree)\n",
    "    # zip the list into (factor, degree) tuples and then find the product, which is our LCM\n",
    "    return reduce(lambda product, item: product * (item[0]**item[1]), zip(current_factors, current_degrees), 1)"
   ]
  }
 ],
 "metadata": {
  "kernelspec": {
   "display_name": "Python 3",
   "language": "python",
   "name": "python3"
  },
  "language_info": {
   "codemirror_mode": {
    "name": "ipython",
    "version": 3
   },
   "file_extension": ".py",
   "mimetype": "text/x-python",
   "name": "python",
   "nbconvert_exporter": "python",
   "pygments_lexer": "ipython3",
   "version": "3.8.3"
  }
 },
 "nbformat": 4,
 "nbformat_minor": 4
}
