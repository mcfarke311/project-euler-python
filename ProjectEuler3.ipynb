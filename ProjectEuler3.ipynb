{
 "cells": [
  {
   "cell_type": "code",
   "execution_count": 36,
   "metadata": {},
   "outputs": [],
   "source": [
    "def prime_sieve(upperLimit):\n",
    "    \"\"\"A basic implementation of the Sieve of Eratosthenes to find prime numbers less than some upper limit\n",
    "    \n",
    "    Parameters\n",
    "    ----------\n",
    "        upperLimit : int\n",
    "            The upper bound where we will stop finding prime numbers\n",
    "            \n",
    "    Returns\n",
    "    -------\n",
    "        list of int\n",
    "            A list of integers that are prime and are less than 'upperLimit' \n",
    "            \n",
    "    Examples\n",
    "    --------\n",
    "    >>> prime_sieve(10)\n",
    "    [2, 3, 5, 7]\n",
    "    >>> prime_sieve(15)\n",
    "    [2, 3, 5, 7, 11, 13]\n",
    "    \"\"\"\n",
    "    from math import sqrt, ceil # we want to go up to the square root of the upper limit\n",
    "    from itertools import compress # this is basically a filter\n",
    "    \n",
    "    # make an array of bools where each potential prime is the index of the array\n",
    "    index_is_prime = [True] * (upperLimit)\n",
    "    index_is_prime[0:2] = [False, False] # 0 and 1 are not prime\n",
    "    \n",
    "    # for each number from 2 to the square root of your upper limit\n",
    "    for i in range(2, ceil(sqrt(upperLimit))):\n",
    "        # if we hit a prime number, we want to mark off multiples of this number\n",
    "        if index_is_prime[i] is True:\n",
    "            for j in range(i**2, upperLimit, i):\n",
    "                index_is_prime[j] = False\n",
    "    return list(compress(range(upperLimit),index_is_prime))\n",
    "    "
   ]
  },
  {
   "cell_type": "code",
   "execution_count": 39,
   "metadata": {},
   "outputs": [
    {
     "data": {
      "text/plain": [
       "TestResults(failed=0, attempted=2)"
      ]
     },
     "execution_count": 39,
     "metadata": {},
     "output_type": "execute_result"
    }
   ],
   "source": [
    "import doctest\n",
    "doctest.testmod()"
   ]
  },
  {
   "cell_type": "code",
   "execution_count": 40,
   "metadata": {
    "scrolled": true
   },
   "outputs": [
    {
     "ename": "MemoryError",
     "evalue": "",
     "output_type": "error",
     "traceback": [
      "\u001b[1;31m---------------------------------------------------------------------------\u001b[0m",
      "\u001b[1;31mMemoryError\u001b[0m                               Traceback (most recent call last)",
      "\u001b[1;32m<ipython-input-40-6789b132bdbb>\u001b[0m in \u001b[0;36m<module>\u001b[1;34m\u001b[0m\n\u001b[1;32m----> 1\u001b[1;33m \u001b[0mprime_sieve\u001b[0m\u001b[1;33m(\u001b[0m\u001b[1;36m600851475143\u001b[0m\u001b[1;33m)\u001b[0m\u001b[1;33m\u001b[0m\u001b[1;33m\u001b[0m\u001b[0m\n\u001b[0m",
      "\u001b[1;32m<ipython-input-36-cbc95ed02c87>\u001b[0m in \u001b[0;36mprime_sieve\u001b[1;34m(upperLimit)\u001b[0m\n\u001b[0;32m     21\u001b[0m     \u001b[1;32mfrom\u001b[0m \u001b[0mmath\u001b[0m \u001b[1;32mimport\u001b[0m \u001b[0msqrt\u001b[0m\u001b[1;33m,\u001b[0m \u001b[0mceil\u001b[0m\u001b[1;33m\u001b[0m\u001b[1;33m\u001b[0m\u001b[0m\n\u001b[0;32m     22\u001b[0m     \u001b[1;32mfrom\u001b[0m \u001b[0mitertools\u001b[0m \u001b[1;32mimport\u001b[0m \u001b[0mcompress\u001b[0m\u001b[1;33m\u001b[0m\u001b[1;33m\u001b[0m\u001b[0m\n\u001b[1;32m---> 23\u001b[1;33m     \u001b[0mindex_is_prime\u001b[0m \u001b[1;33m=\u001b[0m \u001b[1;33m[\u001b[0m\u001b[1;32mTrue\u001b[0m\u001b[1;33m]\u001b[0m \u001b[1;33m*\u001b[0m \u001b[1;33m(\u001b[0m\u001b[0mupperLimit\u001b[0m\u001b[1;33m)\u001b[0m\u001b[1;33m\u001b[0m\u001b[1;33m\u001b[0m\u001b[0m\n\u001b[0m\u001b[0;32m     24\u001b[0m     \u001b[0mindex_is_prime\u001b[0m\u001b[1;33m[\u001b[0m\u001b[1;36m0\u001b[0m\u001b[1;33m:\u001b[0m\u001b[1;36m2\u001b[0m\u001b[1;33m]\u001b[0m \u001b[1;33m=\u001b[0m \u001b[1;33m[\u001b[0m\u001b[1;32mFalse\u001b[0m\u001b[1;33m,\u001b[0m \u001b[1;32mFalse\u001b[0m\u001b[1;33m]\u001b[0m\u001b[1;33m\u001b[0m\u001b[1;33m\u001b[0m\u001b[0m\n\u001b[0;32m     25\u001b[0m     \u001b[1;32mfor\u001b[0m \u001b[0mi\u001b[0m \u001b[1;32min\u001b[0m \u001b[0mrange\u001b[0m\u001b[1;33m(\u001b[0m\u001b[1;36m2\u001b[0m\u001b[1;33m,\u001b[0m \u001b[0mceil\u001b[0m\u001b[1;33m(\u001b[0m\u001b[0msqrt\u001b[0m\u001b[1;33m(\u001b[0m\u001b[0mupperLimit\u001b[0m\u001b[1;33m)\u001b[0m\u001b[1;33m)\u001b[0m\u001b[1;33m)\u001b[0m\u001b[1;33m:\u001b[0m\u001b[1;33m\u001b[0m\u001b[1;33m\u001b[0m\u001b[0m\n",
      "\u001b[1;31mMemoryError\u001b[0m: "
     ]
    }
   ],
   "source": [
    "prime_sieve(600851475143)\n"
   ]
  },
  {
   "cell_type": "code",
   "execution_count": 90,
   "metadata": {},
   "outputs": [],
   "source": [
    "def getLargestPrimeFactor(number, primeCheck = False):\n",
    "    \"\"\"\n",
    "    \"\"\"\n",
    "    from math import sqrt, ceil\n",
    "    \n",
    "    # for each number, we will assume prime until we have evidence otherwise\n",
    "    prime = True\n",
    "    if not primeCheck:\n",
    "        primesList = []\n",
    "    # we only have to check up to the square root of our number\n",
    "    for i in range(2,ceil(sqrt(number)) + 1):\n",
    "        # if i is factor, number is not prime\n",
    "        if number % i == 0:\n",
    "            prime = False\n",
    "            # primeCheck only set on subsequent call to check if factors are prime\n",
    "            if primeCheck:\n",
    "                break\n",
    "            if getFactors(number // i, True):\n",
    "                primesList.append(number // i)\n",
    "            if getFactors(i, True):\n",
    "                primesList.append(i)\n",
    "    if not primeCheck:\n",
    "        if primesList == []:\n",
    "            print(number, 'is prime')\n",
    "        else:\n",
    "            print('largest prime factor: ', max(primesList))\n",
    "    return prime"
   ]
  },
  {
   "cell_type": "code",
   "execution_count": 80,
   "metadata": {
    "scrolled": true
   },
   "outputs": [
    {
     "name": "stdout",
     "output_type": "stream",
     "text": [
      "largest prime factor:  6857\n",
      "0:00:00.123057\n"
     ]
    }
   ],
   "source": [
    "from datetime import datetime\n",
    "begin = datetime.now()\n",
    "getFactors(600851475143)\n",
    "end = datetime.now()\n",
    "print(end - begin)"
   ]
  },
  {
   "cell_type": "code",
   "execution_count": 92,
   "metadata": {
    "scrolled": true
   },
   "outputs": [
    {
     "name": "stdout",
     "output_type": "stream",
     "text": [
      "largest prime factor:  4\n"
     ]
    },
    {
     "data": {
      "text/plain": [
       "False"
      ]
     },
     "execution_count": 92,
     "metadata": {},
     "output_type": "execute_result"
    }
   ],
   "source": [
    "getLargestPrimeFactor(12)"
   ]
  },
  {
   "cell_type": "code",
   "execution_count": 152,
   "metadata": {},
   "outputs": [],
   "source": [
    "def getFactors(number):\n",
    "    \"\"\"function to find factors of a number\n",
    "    \n",
    "    Parameters\n",
    "    ----------\n",
    "        number : int\n",
    "            The number which you would like to factor\n",
    "            \n",
    "    Returns\n",
    "    -------\n",
    "        list of ints\n",
    "            A list of integer numbers which divide the original number with no remainder\n",
    "            \n",
    "    Examples\n",
    "    --------\n",
    "    >>> getFactors(24)\n",
    "    {2, 3, 4, 6, 8, 12}\n",
    "    \"\"\"\n",
    "    \n",
    "    from math import sqrt, ceil\n",
    "    \n",
    "    # these two conditions are here just because 1 is considered not prime and 2 is considered prime\n",
    "    # it is much easier to tackle here than to clean out logic below for one immediate case\n",
    "    if number == 1:\n",
    "        return set([1])\n",
    "    if number == 2:\n",
    "        return set()\n",
    "    # sets ensure that we only count factors once\n",
    "    # splitting sets into high and low ensures that everything is sorted in the end\n",
    "    lowFactors = set()\n",
    "    highFactors = set()\n",
    "    # math tells us we only have to factor up to the square root of a number.\n",
    "    for i in range(2, ceil(sqrt(number)) + 1):\n",
    "        if number % i == 0:\n",
    "            lowFactors.add(i)\n",
    "            highFactors.add(number // i)\n",
    "    return lowFactors | highFactors # return set union of all factors"
   ]
  },
  {
   "cell_type": "code",
   "execution_count": 135,
   "metadata": {},
   "outputs": [],
   "source": [
    "def isPrime(number):\n",
    "    \"\"\"function to return True if number is prime, False otherwise\n",
    "    \n",
    "    Parameters\n",
    "    ----------\n",
    "        number : int\n",
    "            A number to test for primality\n",
    "    Returns\n",
    "    -------\n",
    "        bool\n",
    "            True if 'number' is prime; False otherwise\n",
    "    \n",
    "    Examples\n",
    "    --------\n",
    "    >>> isPrime(2)\n",
    "    True\n",
    "    >>> isPrime(4)\n",
    "    False\n",
    "    >>> isPrime(17)\n",
    "    True\n",
    "    \"\"\"\n",
    "    \n",
    "    return not getFactors(number)"
   ]
  },
  {
   "cell_type": "code",
   "execution_count": 188,
   "metadata": {},
   "outputs": [],
   "source": [
    "def getLargestPrimeFactor(number):\n",
    "    \"\"\"Return the largest prime factor of a number\n",
    "    \n",
    "    Parameters\n",
    "    ----------\n",
    "        number : int\n",
    "            The number to factor and then determine the largest prime in its list of factors\n",
    "            \n",
    "    Returns\n",
    "    -------\n",
    "        int\n",
    "            The single largest prime number which is a factor of 'number'\n",
    "\n",
    "    Examples\n",
    "    --------\n",
    "    >>> getLargestPrimeFactor(10)\n",
    "    5\n",
    "    >>> getLargestPrimeFactor(4)\n",
    "    2\n",
    "    >>> getLargestPrimeFactor(13)\n",
    "    13\n",
    "    \"\"\"\n",
    "    \n",
    "    # convert set to list and ensure that it is sorted\n",
    "    # we must sort because sets are hash tables and don't guarantee ordering when casting as a list.\n",
    "    factorList = list(getFactors(number))\n",
    "    factorList.sort()\n",
    "    if not factorList:\n",
    "        # falsey check that tells us the number we passed in is prime and is therefore \n",
    "        # its own largest factor\n",
    "        return number\n",
    "    factorList.reverse()\n",
    "    for factor in factorList:\n",
    "        if isPrime(factor):\n",
    "            return factor"
   ]
  }
 ],
 "metadata": {
  "kernelspec": {
   "display_name": "Python 3",
   "language": "python",
   "name": "python3"
  },
  "language_info": {
   "codemirror_mode": {
    "name": "ipython",
    "version": 3
   },
   "file_extension": ".py",
   "mimetype": "text/x-python",
   "name": "python",
   "nbconvert_exporter": "python",
   "pygments_lexer": "ipython3",
   "version": "3.8.3"
  }
 },
 "nbformat": 4,
 "nbformat_minor": 4
}
