{
 "cells": [
  {
   "cell_type": "code",
   "execution_count": 82,
   "metadata": {},
   "outputs": [],
   "source": [
    "def prime_sieve(upperLimit):\n",
    "    \"\"\"A basic implementation of the Sieve of Eratosthenes to find prime numbers less than some upper limit\n",
    "    \n",
    "    Parameters\n",
    "    ----------\n",
    "        upperLimit : int\n",
    "            The upper bound where we will stop finding prime numbers\n",
    "            \n",
    "    Returns\n",
    "    -------\n",
    "        list of int\n",
    "            A list of integers that are prime and are less than 'upperLimit' \n",
    "            \n",
    "    Examples\n",
    "    --------\n",
    "    >>> prime_sieve(10)\n",
    "    [2, 3, 5, 7]\n",
    "    >>> prime_sieve(15)\n",
    "    [2, 3, 5, 7, 11, 13]\n",
    "    \"\"\"\n",
    "    from math import sqrt, ceil # we want to go up to the square root of the upper limit\n",
    "    from itertools import compress # this is basically a filter\n",
    "    \n",
    "    # make an array of bools where each potential prime is the index of the array\n",
    "    index_is_prime = [True] * (upperLimit)\n",
    "    index_is_prime[0:2] = [False, False] # 0 and 1 are not prime\n",
    "    \n",
    "    # for each number from 2 to the square root of your upper limit\n",
    "    for i in range(2, ceil(sqrt(upperLimit))):\n",
    "        # if we hit a prime number, we want to mark off multiples of this number\n",
    "        if index_is_prime[i] is True:\n",
    "            for j in range(i**2, upperLimit, i):\n",
    "                index_is_prime[j] = False\n",
    "    return list(compress(range(upperLimit),index_is_prime))"
   ]
  },
  {
   "cell_type": "code",
   "execution_count": 95,
   "metadata": {},
   "outputs": [
    {
     "data": {
      "text/plain": [
       "9592"
      ]
     },
     "execution_count": 95,
     "metadata": {},
     "output_type": "execute_result"
    }
   ],
   "source": [
    "len(prime_sieve(100000))"
   ]
  },
  {
   "cell_type": "code",
   "execution_count": 93,
   "metadata": {},
   "outputs": [
    {
     "data": {
      "text/plain": [
       "13848"
      ]
     },
     "execution_count": 93,
     "metadata": {},
     "output_type": "execute_result"
    }
   ],
   "source": [
    "len(prime_sieve(150000))"
   ]
  },
  {
   "cell_type": "code",
   "execution_count": null,
   "metadata": {},
   "outputs": [],
   "source": [
    "prime_sieve(150000)[10000]"
   ]
  }
 ],
 "metadata": {
  "kernelspec": {
   "display_name": "Python 3",
   "language": "python",
   "name": "python3"
  },
  "language_info": {
   "codemirror_mode": {
    "name": "ipython",
    "version": 3
   },
   "file_extension": ".py",
   "mimetype": "text/x-python",
   "name": "python",
   "nbconvert_exporter": "python",
   "pygments_lexer": "ipython3",
   "version": "3.8.3"
  }
 },
 "nbformat": 4,
 "nbformat_minor": 4
}
