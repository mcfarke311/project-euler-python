{
 "cells": [
  {
   "cell_type": "markdown",
   "metadata": {},
   "source": [
    "# Sum square difference\n",
    "#### Problem 6\n",
    "\n",
    "The sum of the squares of the first ten natural numbers is,\n",
    "\n",
    "1<sup>2</sup> + 2<sup>2</sup> + ... + 10<sup>2</sup> = 385\n",
    "\n",
    "The square of the sum of the first ten natural numbers is,\n",
    "\n",
    "(1 + 2 + ... + 10)<sup>2</sup> = 55<sup>2</sup> = 3025\n",
    "\n",
    "Hence the difference between the sum of the squares of the first ten natural numbers and the square of the sum is\n",
    "\n",
    "3025 - 385 = 2640.\n",
    "\n",
    "Find the difference between the sum of the squares of the first one hundred natural numbers and the square of the sum."
   ]
  },
  {
   "cell_type": "code",
   "execution_count": 8,
   "metadata": {},
   "outputs": [],
   "source": [
    "def sumOfSquares(numbers):\n",
    "    \"\"\"Find the sum of the squares of a list of numbers\n",
    "    \n",
    "    Parameters\n",
    "    ----------\n",
    "        numbers : list of ints\n",
    "            A list of integers that will be squared and summed to find sum of squares.\n",
    "    \n",
    "    Returns\n",
    "    -------\n",
    "        int\n",
    "            The sum of the squares of each integer in 'numbers'\n",
    "    \n",
    "    Examples\n",
    "    --------\n",
    "    >>> sumOfSquares([1, 2])\n",
    "    5\n",
    "    >>> sumOfSquares([3, 4])\n",
    "    25\n",
    "    >>> sumOfSquares(range(1, 11))\n",
    "    385\n",
    "    \"\"\"\n",
    "    \n",
    "    # list comprehension is much more readable than list.map method\n",
    "    squares = [number ** 2 for number in numbers]\n",
    "    return sum(squares)"
   ]
  },
  {
   "cell_type": "code",
   "execution_count": 10,
   "metadata": {},
   "outputs": [],
   "source": [
    "def squareOfSums(numbers):\n",
    "    \"\"\"Find the square of sums of a list of numbers\n",
    "    \n",
    "    Parameters\n",
    "    ----------\n",
    "        numbers : list of ints\n",
    "            A list of integers that will be summed and then squared to find square of sums.\n",
    "            \n",
    "    Returns\n",
    "    -------\n",
    "        int\n",
    "            The squared value of the sume of each number in 'numbers'.\n",
    "            \n",
    "    Examples\n",
    "    --------\n",
    "    >>> squareOfSums([1, 2])\n",
    "    9\n",
    "    >>> squareOfSums([3, 4])\n",
    "    49\n",
    "    >>> squareOfSums(range(1, 11))\n",
    "    3025\n",
    "    \"\"\"\n",
    "    \n",
    "    return (sum(numbers) ** 2)"
   ]
  },
  {
   "cell_type": "code",
   "execution_count": 22,
   "metadata": {},
   "outputs": [],
   "source": [
    "def sumSquareDifference(numbers):\n",
    "    \"\"\"Find the sum square difference of a list of numbers\n",
    "    \n",
    "    Parameters\n",
    "    ----------\n",
    "        numbers : list of ints\n",
    "            A list of numbers of which you want to find the sum-square difference\n",
    "            \n",
    "    Returns\n",
    "    -------\n",
    "        int\n",
    "            The value of the sum-square difference of 'numbers'\n",
    "            \n",
    "    Examples\n",
    "    --------\n",
    "    >>> sumSquareDifference([1, 2])\n",
    "    4\n",
    "    >>> sumSquareDifference([3, 4])\n",
    "    24\n",
    "    >>> sumSquareDifference(range(1, 11))\n",
    "    2640\n",
    "    \"\"\"\n",
    "    \n",
    "    return squareOfSums(numbers) - sumOfSquares(numbers)"
   ]
  },
  {
   "cell_type": "code",
   "execution_count": 23,
   "metadata": {
    "scrolled": true
   },
   "outputs": [
    {
     "data": {
      "text/plain": [
       "TestResults(failed=0, attempted=9)"
      ]
     },
     "execution_count": 23,
     "metadata": {},
     "output_type": "execute_result"
    }
   ],
   "source": [
    "import doctest\n",
    "doctest.testmod()"
   ]
  },
  {
   "cell_type": "code",
   "execution_count": 24,
   "metadata": {},
   "outputs": [
    {
     "name": "stdout",
     "output_type": "stream",
     "text": [
      "24\n"
     ]
    }
   ],
   "source": [
    "numbers = [3,4];print(abs((sum(numbers) ** 2) - sum([number ** 2 for number in numbers])))"
   ]
  }
 ],
 "metadata": {
  "kernelspec": {
   "display_name": "Python 3",
   "language": "python",
   "name": "python3"
  },
  "language_info": {
   "codemirror_mode": {
    "name": "ipython",
    "version": 3
   },
   "file_extension": ".py",
   "mimetype": "text/x-python",
   "name": "python",
   "nbconvert_exporter": "python",
   "pygments_lexer": "ipython3",
   "version": "3.8.3"
  }
 },
 "nbformat": 4,
 "nbformat_minor": 4
}
